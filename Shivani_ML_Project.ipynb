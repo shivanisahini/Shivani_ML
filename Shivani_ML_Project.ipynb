{
 "cells": [
  {
   "cell_type": "markdown",
   "id": "ed65ce8d",
   "metadata": {},
   "source": [
    "# Predicting Real-Time Cricket Match Insights Using Machine Learning"
   ]
  },
  {
   "cell_type": "code",
   "execution_count": 38,
   "id": "57ac34b1",
   "metadata": {},
   "outputs": [],
   "source": [
    "import numpy as np\n",
    "import pandas as pd\n",
    "import matplotlib.pyplot as plt\n",
    "import seaborn as sns\n",
    "import warnings\n",
    "warnings.filterwarnings('ignore')\n",
    "from sklearn.model_selection import train_test_split\n",
    "from sklearn.metrics import accuracy_score\n",
    "from sklearn.svm import SVC\n",
    "from sklearn.model_selection import GridSearchCV\n",
    "from sklearn.ensemble import RandomForestClassifier\n",
    "from sklearn.ensemble import RandomForestRegressor\n",
    "from sklearn.metrics import mean_squared_error"
   ]
  },
  {
   "cell_type": "code",
   "execution_count": 39,
   "id": "97c6a6e7",
   "metadata": {},
   "outputs": [],
   "source": [
    "df=pd.read_csv('t20_bbb.csv')"
   ]
  },
  {
   "cell_type": "code",
   "execution_count": 40,
   "id": "a910eed0",
   "metadata": {},
   "outputs": [
    {
     "data": {
      "text/html": [
       "<div>\n",
       "<style scoped>\n",
       "    .dataframe tbody tr th:only-of-type {\n",
       "        vertical-align: middle;\n",
       "    }\n",
       "\n",
       "    .dataframe tbody tr th {\n",
       "        vertical-align: top;\n",
       "    }\n",
       "\n",
       "    .dataframe thead th {\n",
       "        text-align: right;\n",
       "    }\n",
       "</style>\n",
       "<table border=\"1\" class=\"dataframe\">\n",
       "  <thead>\n",
       "    <tr style=\"text-align: right;\">\n",
       "      <th></th>\n",
       "      <th>Unnamed: 0</th>\n",
       "      <th>match_id</th>\n",
       "      <th>batting_team</th>\n",
       "      <th>bowling_team</th>\n",
       "      <th>ball</th>\n",
       "      <th>runs</th>\n",
       "      <th>player_dismissed</th>\n",
       "      <th>city</th>\n",
       "      <th>venue</th>\n",
       "    </tr>\n",
       "  </thead>\n",
       "  <tbody>\n",
       "    <tr>\n",
       "      <th>0</th>\n",
       "      <td>0</td>\n",
       "      <td>2</td>\n",
       "      <td>Australia</td>\n",
       "      <td>Sri Lanka</td>\n",
       "      <td>0.1</td>\n",
       "      <td>0</td>\n",
       "      <td>0</td>\n",
       "      <td>NaN</td>\n",
       "      <td>Melbourne Cricket Ground</td>\n",
       "    </tr>\n",
       "    <tr>\n",
       "      <th>1</th>\n",
       "      <td>1</td>\n",
       "      <td>2</td>\n",
       "      <td>Australia</td>\n",
       "      <td>Sri Lanka</td>\n",
       "      <td>0.2</td>\n",
       "      <td>0</td>\n",
       "      <td>0</td>\n",
       "      <td>NaN</td>\n",
       "      <td>Melbourne Cricket Ground</td>\n",
       "    </tr>\n",
       "    <tr>\n",
       "      <th>2</th>\n",
       "      <td>2</td>\n",
       "      <td>2</td>\n",
       "      <td>Australia</td>\n",
       "      <td>Sri Lanka</td>\n",
       "      <td>0.3</td>\n",
       "      <td>1</td>\n",
       "      <td>0</td>\n",
       "      <td>NaN</td>\n",
       "      <td>Melbourne Cricket Ground</td>\n",
       "    </tr>\n",
       "    <tr>\n",
       "      <th>3</th>\n",
       "      <td>3</td>\n",
       "      <td>2</td>\n",
       "      <td>Australia</td>\n",
       "      <td>Sri Lanka</td>\n",
       "      <td>0.4</td>\n",
       "      <td>2</td>\n",
       "      <td>0</td>\n",
       "      <td>NaN</td>\n",
       "      <td>Melbourne Cricket Ground</td>\n",
       "    </tr>\n",
       "    <tr>\n",
       "      <th>4</th>\n",
       "      <td>4</td>\n",
       "      <td>2</td>\n",
       "      <td>Australia</td>\n",
       "      <td>Sri Lanka</td>\n",
       "      <td>0.5</td>\n",
       "      <td>0</td>\n",
       "      <td>0</td>\n",
       "      <td>NaN</td>\n",
       "      <td>Melbourne Cricket Ground</td>\n",
       "    </tr>\n",
       "    <tr>\n",
       "      <th>...</th>\n",
       "      <td>...</td>\n",
       "      <td>...</td>\n",
       "      <td>...</td>\n",
       "      <td>...</td>\n",
       "      <td>...</td>\n",
       "      <td>...</td>\n",
       "      <td>...</td>\n",
       "      <td>...</td>\n",
       "      <td>...</td>\n",
       "    </tr>\n",
       "    <tr>\n",
       "      <th>63883</th>\n",
       "      <td>121</td>\n",
       "      <td>964</td>\n",
       "      <td>Sri Lanka</td>\n",
       "      <td>Australia</td>\n",
       "      <td>19.3</td>\n",
       "      <td>1</td>\n",
       "      <td>0</td>\n",
       "      <td>Colombo</td>\n",
       "      <td>R Premadasa Stadium</td>\n",
       "    </tr>\n",
       "    <tr>\n",
       "      <th>63884</th>\n",
       "      <td>122</td>\n",
       "      <td>964</td>\n",
       "      <td>Sri Lanka</td>\n",
       "      <td>Australia</td>\n",
       "      <td>19.4</td>\n",
       "      <td>0</td>\n",
       "      <td>0</td>\n",
       "      <td>Colombo</td>\n",
       "      <td>R Premadasa Stadium</td>\n",
       "    </tr>\n",
       "    <tr>\n",
       "      <th>63885</th>\n",
       "      <td>123</td>\n",
       "      <td>964</td>\n",
       "      <td>Sri Lanka</td>\n",
       "      <td>Australia</td>\n",
       "      <td>19.5</td>\n",
       "      <td>0</td>\n",
       "      <td>DM de Silva</td>\n",
       "      <td>Colombo</td>\n",
       "      <td>R Premadasa Stadium</td>\n",
       "    </tr>\n",
       "    <tr>\n",
       "      <th>63886</th>\n",
       "      <td>124</td>\n",
       "      <td>964</td>\n",
       "      <td>Sri Lanka</td>\n",
       "      <td>Australia</td>\n",
       "      <td>19.6</td>\n",
       "      <td>2</td>\n",
       "      <td>0</td>\n",
       "      <td>Colombo</td>\n",
       "      <td>R Premadasa Stadium</td>\n",
       "    </tr>\n",
       "    <tr>\n",
       "      <th>63887</th>\n",
       "      <td>125</td>\n",
       "      <td>964</td>\n",
       "      <td>Sri Lanka</td>\n",
       "      <td>Australia</td>\n",
       "      <td>19.7</td>\n",
       "      <td>1</td>\n",
       "      <td>0</td>\n",
       "      <td>Colombo</td>\n",
       "      <td>R Premadasa Stadium</td>\n",
       "    </tr>\n",
       "  </tbody>\n",
       "</table>\n",
       "<p>63888 rows × 9 columns</p>\n",
       "</div>"
      ],
      "text/plain": [
       "       Unnamed: 0  match_id batting_team bowling_team  ball  runs  \\\n",
       "0               0         2    Australia    Sri Lanka   0.1     0   \n",
       "1               1         2    Australia    Sri Lanka   0.2     0   \n",
       "2               2         2    Australia    Sri Lanka   0.3     1   \n",
       "3               3         2    Australia    Sri Lanka   0.4     2   \n",
       "4               4         2    Australia    Sri Lanka   0.5     0   \n",
       "...           ...       ...          ...          ...   ...   ...   \n",
       "63883         121       964    Sri Lanka    Australia  19.3     1   \n",
       "63884         122       964    Sri Lanka    Australia  19.4     0   \n",
       "63885         123       964    Sri Lanka    Australia  19.5     0   \n",
       "63886         124       964    Sri Lanka    Australia  19.6     2   \n",
       "63887         125       964    Sri Lanka    Australia  19.7     1   \n",
       "\n",
       "      player_dismissed     city                     venue  \n",
       "0                    0      NaN  Melbourne Cricket Ground  \n",
       "1                    0      NaN  Melbourne Cricket Ground  \n",
       "2                    0      NaN  Melbourne Cricket Ground  \n",
       "3                    0      NaN  Melbourne Cricket Ground  \n",
       "4                    0      NaN  Melbourne Cricket Ground  \n",
       "...                ...      ...                       ...  \n",
       "63883                0  Colombo       R Premadasa Stadium  \n",
       "63884                0  Colombo       R Premadasa Stadium  \n",
       "63885      DM de Silva  Colombo       R Premadasa Stadium  \n",
       "63886                0  Colombo       R Premadasa Stadium  \n",
       "63887                0  Colombo       R Premadasa Stadium  \n",
       "\n",
       "[63888 rows x 9 columns]"
      ]
     },
     "execution_count": 40,
     "metadata": {},
     "output_type": "execute_result"
    }
   ],
   "source": [
    "df"
   ]
  },
  {
   "cell_type": "code",
   "execution_count": 41,
   "id": "710a4d59",
   "metadata": {},
   "outputs": [
    {
     "data": {
      "text/html": [
       "<div>\n",
       "<style scoped>\n",
       "    .dataframe tbody tr th:only-of-type {\n",
       "        vertical-align: middle;\n",
       "    }\n",
       "\n",
       "    .dataframe tbody tr th {\n",
       "        vertical-align: top;\n",
       "    }\n",
       "\n",
       "    .dataframe thead th {\n",
       "        text-align: right;\n",
       "    }\n",
       "</style>\n",
       "<table border=\"1\" class=\"dataframe\">\n",
       "  <thead>\n",
       "    <tr style=\"text-align: right;\">\n",
       "      <th></th>\n",
       "      <th>Unnamed: 0</th>\n",
       "      <th>match_id</th>\n",
       "      <th>batting_team</th>\n",
       "      <th>bowling_team</th>\n",
       "      <th>ball</th>\n",
       "      <th>runs</th>\n",
       "      <th>player_dismissed</th>\n",
       "      <th>city</th>\n",
       "      <th>venue</th>\n",
       "    </tr>\n",
       "  </thead>\n",
       "  <tbody>\n",
       "    <tr>\n",
       "      <th>0</th>\n",
       "      <td>0</td>\n",
       "      <td>2</td>\n",
       "      <td>Australia</td>\n",
       "      <td>Sri Lanka</td>\n",
       "      <td>0.1</td>\n",
       "      <td>0</td>\n",
       "      <td>0</td>\n",
       "      <td>NaN</td>\n",
       "      <td>Melbourne Cricket Ground</td>\n",
       "    </tr>\n",
       "    <tr>\n",
       "      <th>1</th>\n",
       "      <td>1</td>\n",
       "      <td>2</td>\n",
       "      <td>Australia</td>\n",
       "      <td>Sri Lanka</td>\n",
       "      <td>0.2</td>\n",
       "      <td>0</td>\n",
       "      <td>0</td>\n",
       "      <td>NaN</td>\n",
       "      <td>Melbourne Cricket Ground</td>\n",
       "    </tr>\n",
       "    <tr>\n",
       "      <th>2</th>\n",
       "      <td>2</td>\n",
       "      <td>2</td>\n",
       "      <td>Australia</td>\n",
       "      <td>Sri Lanka</td>\n",
       "      <td>0.3</td>\n",
       "      <td>1</td>\n",
       "      <td>0</td>\n",
       "      <td>NaN</td>\n",
       "      <td>Melbourne Cricket Ground</td>\n",
       "    </tr>\n",
       "    <tr>\n",
       "      <th>3</th>\n",
       "      <td>3</td>\n",
       "      <td>2</td>\n",
       "      <td>Australia</td>\n",
       "      <td>Sri Lanka</td>\n",
       "      <td>0.4</td>\n",
       "      <td>2</td>\n",
       "      <td>0</td>\n",
       "      <td>NaN</td>\n",
       "      <td>Melbourne Cricket Ground</td>\n",
       "    </tr>\n",
       "    <tr>\n",
       "      <th>4</th>\n",
       "      <td>4</td>\n",
       "      <td>2</td>\n",
       "      <td>Australia</td>\n",
       "      <td>Sri Lanka</td>\n",
       "      <td>0.5</td>\n",
       "      <td>0</td>\n",
       "      <td>0</td>\n",
       "      <td>NaN</td>\n",
       "      <td>Melbourne Cricket Ground</td>\n",
       "    </tr>\n",
       "  </tbody>\n",
       "</table>\n",
       "</div>"
      ],
      "text/plain": [
       "   Unnamed: 0  match_id batting_team bowling_team  ball  runs  \\\n",
       "0           0         2    Australia    Sri Lanka   0.1     0   \n",
       "1           1         2    Australia    Sri Lanka   0.2     0   \n",
       "2           2         2    Australia    Sri Lanka   0.3     1   \n",
       "3           3         2    Australia    Sri Lanka   0.4     2   \n",
       "4           4         2    Australia    Sri Lanka   0.5     0   \n",
       "\n",
       "  player_dismissed city                     venue  \n",
       "0                0  NaN  Melbourne Cricket Ground  \n",
       "1                0  NaN  Melbourne Cricket Ground  \n",
       "2                0  NaN  Melbourne Cricket Ground  \n",
       "3                0  NaN  Melbourne Cricket Ground  \n",
       "4                0  NaN  Melbourne Cricket Ground  "
      ]
     },
     "execution_count": 41,
     "metadata": {},
     "output_type": "execute_result"
    }
   ],
   "source": [
    "df.head()"
   ]
  },
  {
   "cell_type": "code",
   "execution_count": 42,
   "id": "bafd924c",
   "metadata": {},
   "outputs": [],
   "source": [
    "# Rename unnamed to ID column\n",
    "df = df.rename(columns={'Unnamed: 0': 'ID'})"
   ]
  },
  {
   "cell_type": "code",
   "execution_count": 43,
   "id": "9a5d8c25",
   "metadata": {},
   "outputs": [
    {
     "data": {
      "text/html": [
       "<div>\n",
       "<style scoped>\n",
       "    .dataframe tbody tr th:only-of-type {\n",
       "        vertical-align: middle;\n",
       "    }\n",
       "\n",
       "    .dataframe tbody tr th {\n",
       "        vertical-align: top;\n",
       "    }\n",
       "\n",
       "    .dataframe thead th {\n",
       "        text-align: right;\n",
       "    }\n",
       "</style>\n",
       "<table border=\"1\" class=\"dataframe\">\n",
       "  <thead>\n",
       "    <tr style=\"text-align: right;\">\n",
       "      <th></th>\n",
       "      <th>ID</th>\n",
       "      <th>match_id</th>\n",
       "      <th>batting_team</th>\n",
       "      <th>bowling_team</th>\n",
       "      <th>ball</th>\n",
       "      <th>runs</th>\n",
       "      <th>player_dismissed</th>\n",
       "      <th>city</th>\n",
       "      <th>venue</th>\n",
       "    </tr>\n",
       "  </thead>\n",
       "  <tbody>\n",
       "    <tr>\n",
       "      <th>0</th>\n",
       "      <td>0</td>\n",
       "      <td>2</td>\n",
       "      <td>Australia</td>\n",
       "      <td>Sri Lanka</td>\n",
       "      <td>0.1</td>\n",
       "      <td>0</td>\n",
       "      <td>0</td>\n",
       "      <td>NaN</td>\n",
       "      <td>Melbourne Cricket Ground</td>\n",
       "    </tr>\n",
       "    <tr>\n",
       "      <th>1</th>\n",
       "      <td>1</td>\n",
       "      <td>2</td>\n",
       "      <td>Australia</td>\n",
       "      <td>Sri Lanka</td>\n",
       "      <td>0.2</td>\n",
       "      <td>0</td>\n",
       "      <td>0</td>\n",
       "      <td>NaN</td>\n",
       "      <td>Melbourne Cricket Ground</td>\n",
       "    </tr>\n",
       "    <tr>\n",
       "      <th>2</th>\n",
       "      <td>2</td>\n",
       "      <td>2</td>\n",
       "      <td>Australia</td>\n",
       "      <td>Sri Lanka</td>\n",
       "      <td>0.3</td>\n",
       "      <td>1</td>\n",
       "      <td>0</td>\n",
       "      <td>NaN</td>\n",
       "      <td>Melbourne Cricket Ground</td>\n",
       "    </tr>\n",
       "    <tr>\n",
       "      <th>3</th>\n",
       "      <td>3</td>\n",
       "      <td>2</td>\n",
       "      <td>Australia</td>\n",
       "      <td>Sri Lanka</td>\n",
       "      <td>0.4</td>\n",
       "      <td>2</td>\n",
       "      <td>0</td>\n",
       "      <td>NaN</td>\n",
       "      <td>Melbourne Cricket Ground</td>\n",
       "    </tr>\n",
       "    <tr>\n",
       "      <th>4</th>\n",
       "      <td>4</td>\n",
       "      <td>2</td>\n",
       "      <td>Australia</td>\n",
       "      <td>Sri Lanka</td>\n",
       "      <td>0.5</td>\n",
       "      <td>0</td>\n",
       "      <td>0</td>\n",
       "      <td>NaN</td>\n",
       "      <td>Melbourne Cricket Ground</td>\n",
       "    </tr>\n",
       "    <tr>\n",
       "      <th>...</th>\n",
       "      <td>...</td>\n",
       "      <td>...</td>\n",
       "      <td>...</td>\n",
       "      <td>...</td>\n",
       "      <td>...</td>\n",
       "      <td>...</td>\n",
       "      <td>...</td>\n",
       "      <td>...</td>\n",
       "      <td>...</td>\n",
       "    </tr>\n",
       "    <tr>\n",
       "      <th>63883</th>\n",
       "      <td>121</td>\n",
       "      <td>964</td>\n",
       "      <td>Sri Lanka</td>\n",
       "      <td>Australia</td>\n",
       "      <td>19.3</td>\n",
       "      <td>1</td>\n",
       "      <td>0</td>\n",
       "      <td>Colombo</td>\n",
       "      <td>R Premadasa Stadium</td>\n",
       "    </tr>\n",
       "    <tr>\n",
       "      <th>63884</th>\n",
       "      <td>122</td>\n",
       "      <td>964</td>\n",
       "      <td>Sri Lanka</td>\n",
       "      <td>Australia</td>\n",
       "      <td>19.4</td>\n",
       "      <td>0</td>\n",
       "      <td>0</td>\n",
       "      <td>Colombo</td>\n",
       "      <td>R Premadasa Stadium</td>\n",
       "    </tr>\n",
       "    <tr>\n",
       "      <th>63885</th>\n",
       "      <td>123</td>\n",
       "      <td>964</td>\n",
       "      <td>Sri Lanka</td>\n",
       "      <td>Australia</td>\n",
       "      <td>19.5</td>\n",
       "      <td>0</td>\n",
       "      <td>DM de Silva</td>\n",
       "      <td>Colombo</td>\n",
       "      <td>R Premadasa Stadium</td>\n",
       "    </tr>\n",
       "    <tr>\n",
       "      <th>63886</th>\n",
       "      <td>124</td>\n",
       "      <td>964</td>\n",
       "      <td>Sri Lanka</td>\n",
       "      <td>Australia</td>\n",
       "      <td>19.6</td>\n",
       "      <td>2</td>\n",
       "      <td>0</td>\n",
       "      <td>Colombo</td>\n",
       "      <td>R Premadasa Stadium</td>\n",
       "    </tr>\n",
       "    <tr>\n",
       "      <th>63887</th>\n",
       "      <td>125</td>\n",
       "      <td>964</td>\n",
       "      <td>Sri Lanka</td>\n",
       "      <td>Australia</td>\n",
       "      <td>19.7</td>\n",
       "      <td>1</td>\n",
       "      <td>0</td>\n",
       "      <td>Colombo</td>\n",
       "      <td>R Premadasa Stadium</td>\n",
       "    </tr>\n",
       "  </tbody>\n",
       "</table>\n",
       "<p>63888 rows × 9 columns</p>\n",
       "</div>"
      ],
      "text/plain": [
       "        ID  match_id batting_team bowling_team  ball  runs player_dismissed  \\\n",
       "0        0         2    Australia    Sri Lanka   0.1     0                0   \n",
       "1        1         2    Australia    Sri Lanka   0.2     0                0   \n",
       "2        2         2    Australia    Sri Lanka   0.3     1                0   \n",
       "3        3         2    Australia    Sri Lanka   0.4     2                0   \n",
       "4        4         2    Australia    Sri Lanka   0.5     0                0   \n",
       "...    ...       ...          ...          ...   ...   ...              ...   \n",
       "63883  121       964    Sri Lanka    Australia  19.3     1                0   \n",
       "63884  122       964    Sri Lanka    Australia  19.4     0                0   \n",
       "63885  123       964    Sri Lanka    Australia  19.5     0      DM de Silva   \n",
       "63886  124       964    Sri Lanka    Australia  19.6     2                0   \n",
       "63887  125       964    Sri Lanka    Australia  19.7     1                0   \n",
       "\n",
       "          city                     venue  \n",
       "0          NaN  Melbourne Cricket Ground  \n",
       "1          NaN  Melbourne Cricket Ground  \n",
       "2          NaN  Melbourne Cricket Ground  \n",
       "3          NaN  Melbourne Cricket Ground  \n",
       "4          NaN  Melbourne Cricket Ground  \n",
       "...        ...                       ...  \n",
       "63883  Colombo       R Premadasa Stadium  \n",
       "63884  Colombo       R Premadasa Stadium  \n",
       "63885  Colombo       R Premadasa Stadium  \n",
       "63886  Colombo       R Premadasa Stadium  \n",
       "63887  Colombo       R Premadasa Stadium  \n",
       "\n",
       "[63888 rows x 9 columns]"
      ]
     },
     "execution_count": 43,
     "metadata": {},
     "output_type": "execute_result"
    }
   ],
   "source": [
    "df"
   ]
  },
  {
   "cell_type": "code",
   "execution_count": 44,
   "id": "5d838dcd",
   "metadata": {},
   "outputs": [
    {
     "name": "stdout",
     "output_type": "stream",
     "text": [
      "total number of rows = 63888\n",
      "total number of columns = 9\n",
      "number of columns having non-numeric values = 5\n",
      "columns with missing values = [('city', 8548)]\n"
     ]
    }
   ],
   "source": [
    "# Exploratory data analysis\n",
    "#To check the total number of rows\n",
    "row_count = df.shape[0] \n",
    "\n",
    "#To check the total number of columns\n",
    "column_count = df.shape[1]  \n",
    "\n",
    "# To find the number of columns having non-numeric values (c)\n",
    "non_numeric_columns = df.columns[df.dtypes == 'object']\n",
    "len_non_numeric = len(non_numeric_columns)\n",
    "\n",
    "# Columns with missing values\n",
    "missing_columns = df.columns[df.isna().any()].tolist()\n",
    "missing_columns_info = [(col, df[col].isna().sum()) for col in missing_columns]\n",
    "missing_columns_info.sort(key=lambda x: x[1], reverse=True)\n",
    "\n",
    "# Print the summary of the outputs\n",
    "print(\"total number of rows =\", row_count)\n",
    "print(\"total number of columns =\", column_count)\n",
    "print(\"number of columns having non-numeric values =\", len_non_numeric)\n",
    "print(\"columns with missing values =\", missing_columns_info)"
   ]
  },
  {
   "cell_type": "code",
   "execution_count": 45,
   "id": "2a259942",
   "metadata": {},
   "outputs": [],
   "source": [
    "# Data cleaning\n",
    "df = df.dropna() # Remove rows with missing values"
   ]
  },
  {
   "cell_type": "code",
   "execution_count": 46,
   "id": "70314338",
   "metadata": {},
   "outputs": [
    {
     "data": {
      "text/plain": [
       "(55340, 9)"
      ]
     },
     "execution_count": 46,
     "metadata": {},
     "output_type": "execute_result"
    }
   ],
   "source": [
    "df.shape"
   ]
  },
  {
   "cell_type": "code",
   "execution_count": 47,
   "id": "c80f4ba3",
   "metadata": {},
   "outputs": [
    {
     "name": "stdout",
     "output_type": "stream",
     "text": [
      "Any duplicates in the entire DataFrame: False\n"
     ]
    }
   ],
   "source": [
    "# Check for duplicates in the entire DataFrame\n",
    "duplicates_in_df = df.duplicated().any()\n",
    "print(f\"Any duplicates in the entire DataFrame: {duplicates_in_df}\")"
   ]
  },
  {
   "cell_type": "code",
   "execution_count": 48,
   "id": "c4e97933",
   "metadata": {},
   "outputs": [
    {
     "name": "stdout",
     "output_type": "stream",
     "text": [
      "                 ID      match_id          ball          runs\n",
      "count  55340.000000  55340.000000  55340.000000  55340.000000\n",
      "mean      60.832761    494.427720      9.733878      1.313589\n",
      "std       35.755997    279.869921      5.762384      1.594038\n",
      "min        0.000000      3.000000      0.100000      0.000000\n",
      "25%       30.000000    234.000000      4.600000      0.000000\n",
      "50%       60.000000    530.000000      9.600000      1.000000\n",
      "75%       92.000000    715.000000     14.600000      1.000000\n",
      "max      133.000000    964.000000     19.900000      7.000000\n"
     ]
    }
   ],
   "source": [
    "print(df.describe())"
   ]
  },
  {
   "cell_type": "code",
   "execution_count": 49,
   "id": "0872e1b6",
   "metadata": {},
   "outputs": [
    {
     "name": "stdout",
     "output_type": "stream",
     "text": [
      "South Africa    7755\n",
      "India           7266\n",
      "New Zealand     6915\n",
      "Pakistan        6626\n",
      "Sri Lanka       6172\n",
      "West Indies     6005\n",
      "England         5600\n",
      "Australia       4405\n",
      "Bangladesh      3243\n",
      "Afghanistan     1353\n",
      "Name: batting_team, dtype: int64\n"
     ]
    }
   ],
   "source": [
    "print(df['batting_team'].value_counts())"
   ]
  },
  {
   "cell_type": "code",
   "execution_count": 50,
   "id": "44780834",
   "metadata": {},
   "outputs": [
    {
     "name": "stdout",
     "output_type": "stream",
     "text": [
      "England         7059\n",
      "West Indies     6831\n",
      "India           6737\n",
      "Australia       6319\n",
      "New Zealand     6066\n",
      "Sri Lanka       5783\n",
      "Pakistan        5654\n",
      "South Africa    5419\n",
      "Bangladesh      4515\n",
      "Afghanistan      957\n",
      "Name: bowling_team, dtype: int64\n"
     ]
    }
   ],
   "source": [
    "print(df['bowling_team'].value_counts())"
   ]
  },
  {
   "cell_type": "code",
   "execution_count": 51,
   "id": "b9e724a2",
   "metadata": {},
   "outputs": [
    {
     "data": {
      "image/png": "[encoded data removed]",
      "text/plain": [
       "<Figure size 640x480 with 2 Axes>"
      ]
     },
     "metadata": {},
     "output_type": "display_data"
    }
   ],
   "source": [
    "#Calculate the correlation matrix for the dataframe 'df'\n",
    "correlation_matrix = df.corr()\n",
    "sns.heatmap(correlation_matrix, annot=True, cmap='coolwarm')\n",
    "plt.show()"
   ]
  },
  {
   "cell_type": "markdown",
   "id": "3e03d0ec",
   "metadata": {},
   "source": [
    "# Feature Engineering  "
   ]
  },
  {
   "cell_type": "code",
   "execution_count": 52,
   "id": "f7f4ede4",
   "metadata": {},
   "outputs": [
    {
     "name": "stdout",
     "output_type": "stream",
     "text": [
      "(44272, 1)\n",
      "(11068, 1)\n",
      "(44272,)\n",
      "(11068,)\n"
     ]
    }
   ],
   "source": [
    "# Add total runs column \n",
    "df['total_runs'] = df.groupby(['batting_team'])['runs'].transform('sum')\n",
    "\n",
    "# Feature Selection\n",
    "X = df[['total_runs']] \n",
    "y = df['batting_team']\n",
    "\n",
    "# Train Test Split\n",
    "X_train, X_test, y_train, y_test = train_test_split(X, y, test_size=0.2, random_state=1)\n",
    "\n",
    "print(X_train.shape)\n",
    "print(X_test.shape)\n",
    "print(y_train.shape)\n",
    "print(y_test.shape)"
   ]
  },
  {
   "cell_type": "code",
   "execution_count": 53,
   "id": "279394e9",
   "metadata": {},
   "outputs": [
    {
     "name": "stdout",
     "output_type": "stream",
     "text": [
      "SVM Accuracy: 0.8965486086013733\n",
      "RF Accuracy: 1.0\n"
     ]
    }
   ],
   "source": [
    "# Compare models \n",
    "svm = SVC()\n",
    "rf = RandomForestClassifier(n_estimators=100)\n",
    "\n",
    "svm.fit(X_train, y_train)\n",
    "rf.fit(X_train, y_train)\n",
    "\n",
    "svm_accuracy = accuracy_score(y_test, svm.predict(X_test))\n",
    "rf_accuracy = accuracy_score(y_test, rf.predict(X_test))\n",
    "\n",
    "print('SVM Accuracy:', svm_accuracy)\n",
    "print('RF Accuracy:', rf_accuracy)\n"
   ]
  },
  {
   "cell_type": "code",
   "execution_count": 54,
   "id": "94a2c642",
   "metadata": {},
   "outputs": [],
   "source": [
    "# Predictions\n",
    "svm_predictions = svm.predict(X_test)\n",
    "rf_predictions = rf.predict(X_test)\n",
    "\n",
    "# Display actual and predicted values for Team1 and Team2\n",
    "results_df = pd.DataFrame({'Actual': y_test, 'SVM Predicted': svm_predictions, 'RF Predicted': rf_predictions})\n",
    "\n",
    "# Column for model comparison\n",
    "results_df['Model Comparison'] = np.where((results_df['SVM Predicted'] == results_df['Actual']) & (results_df['RF Predicted'] == results_df['Actual']), 'Match', 'Mismatch')\n"
   ]
  },
  {
   "cell_type": "code",
   "execution_count": 55,
   "id": "8c90e5d4",
   "metadata": {},
   "outputs": [
    {
     "name": "stdout",
     "output_type": "stream",
     "text": [
      "--------MATCH OUTCOME----------\n"
     ]
    },
    {
     "data": {
      "text/html": [
       "<div>\n",
       "<style scoped>\n",
       "    .dataframe tbody tr th:only-of-type {\n",
       "        vertical-align: middle;\n",
       "    }\n",
       "\n",
       "    .dataframe tbody tr th {\n",
       "        vertical-align: top;\n",
       "    }\n",
       "\n",
       "    .dataframe thead th {\n",
       "        text-align: right;\n",
       "    }\n",
       "</style>\n",
       "<table border=\"1\" class=\"dataframe\">\n",
       "  <thead>\n",
       "    <tr style=\"text-align: right;\">\n",
       "      <th></th>\n",
       "      <th>Actual</th>\n",
       "      <th>SVM Predicted</th>\n",
       "      <th>RF Predicted</th>\n",
       "      <th>Model Comparison</th>\n",
       "    </tr>\n",
       "  </thead>\n",
       "  <tbody>\n",
       "    <tr>\n",
       "      <th>51399</th>\n",
       "      <td>Sri Lanka</td>\n",
       "      <td>Sri Lanka</td>\n",
       "      <td>Sri Lanka</td>\n",
       "      <td>Match</td>\n",
       "    </tr>\n",
       "    <tr>\n",
       "      <th>48925</th>\n",
       "      <td>Australia</td>\n",
       "      <td>Australia</td>\n",
       "      <td>Australia</td>\n",
       "      <td>Match</td>\n",
       "    </tr>\n",
       "    <tr>\n",
       "      <th>26528</th>\n",
       "      <td>West Indies</td>\n",
       "      <td>West Indies</td>\n",
       "      <td>West Indies</td>\n",
       "      <td>Match</td>\n",
       "    </tr>\n",
       "    <tr>\n",
       "      <th>7836</th>\n",
       "      <td>India</td>\n",
       "      <td>India</td>\n",
       "      <td>India</td>\n",
       "      <td>Match</td>\n",
       "    </tr>\n",
       "    <tr>\n",
       "      <th>57203</th>\n",
       "      <td>South Africa</td>\n",
       "      <td>South Africa</td>\n",
       "      <td>South Africa</td>\n",
       "      <td>Match</td>\n",
       "    </tr>\n",
       "    <tr>\n",
       "      <th>...</th>\n",
       "      <td>...</td>\n",
       "      <td>...</td>\n",
       "      <td>...</td>\n",
       "      <td>...</td>\n",
       "    </tr>\n",
       "    <tr>\n",
       "      <th>6893</th>\n",
       "      <td>India</td>\n",
       "      <td>India</td>\n",
       "      <td>India</td>\n",
       "      <td>Match</td>\n",
       "    </tr>\n",
       "    <tr>\n",
       "      <th>39966</th>\n",
       "      <td>New Zealand</td>\n",
       "      <td>New Zealand</td>\n",
       "      <td>New Zealand</td>\n",
       "      <td>Match</td>\n",
       "    </tr>\n",
       "    <tr>\n",
       "      <th>35455</th>\n",
       "      <td>Bangladesh</td>\n",
       "      <td>Bangladesh</td>\n",
       "      <td>Bangladesh</td>\n",
       "      <td>Match</td>\n",
       "    </tr>\n",
       "    <tr>\n",
       "      <th>15170</th>\n",
       "      <td>South Africa</td>\n",
       "      <td>South Africa</td>\n",
       "      <td>South Africa</td>\n",
       "      <td>Match</td>\n",
       "    </tr>\n",
       "    <tr>\n",
       "      <th>21793</th>\n",
       "      <td>England</td>\n",
       "      <td>West Indies</td>\n",
       "      <td>England</td>\n",
       "      <td>Mismatch</td>\n",
       "    </tr>\n",
       "  </tbody>\n",
       "</table>\n",
       "<p>11068 rows × 4 columns</p>\n",
       "</div>"
      ],
      "text/plain": [
       "             Actual SVM Predicted  RF Predicted Model Comparison\n",
       "51399     Sri Lanka     Sri Lanka     Sri Lanka            Match\n",
       "48925     Australia     Australia     Australia            Match\n",
       "26528   West Indies   West Indies   West Indies            Match\n",
       "7836          India         India         India            Match\n",
       "57203  South Africa  South Africa  South Africa            Match\n",
       "...             ...           ...           ...              ...\n",
       "6893          India         India         India            Match\n",
       "39966   New Zealand   New Zealand   New Zealand            Match\n",
       "35455    Bangladesh    Bangladesh    Bangladesh            Match\n",
       "15170  South Africa  South Africa  South Africa            Match\n",
       "21793       England   West Indies       England         Mismatch\n",
       "\n",
       "[11068 rows x 4 columns]"
      ]
     },
     "execution_count": 55,
     "metadata": {},
     "output_type": "execute_result"
    }
   ],
   "source": [
    "print(\"--------MATCH OUTCOME----------\")\n",
    "results_df"
   ]
  },
  {
   "cell_type": "markdown",
   "id": "5cde59e7",
   "metadata": {},
   "source": [
    "# Tuning and Evaluation"
   ]
  },
  {
   "cell_type": "markdown",
   "id": "31e0874f",
   "metadata": {},
   "source": [
    "Without using an automated hyperparameter tuning technique like Grid Search"
   ]
  },
  {
   "cell_type": "code",
   "execution_count": 56,
   "id": "efb57ef2",
   "metadata": {},
   "outputs": [
    {
     "name": "stdout",
     "output_type": "stream",
     "text": [
      "Tuned RF Accuracy: 1.0\n",
      "Feature Importances:\n",
      " [1.]\n",
      "The tuned RF model obtained an accuracy of 1.0 on the test set\n"
     ]
    }
   ],
   "source": [
    "# Tune RF hyperparameters\n",
    "rf = RandomForestClassifier(n_estimators=200, max_depth=10)\n",
    "rf.fit(X_train, y_train)\n",
    "rf_predictions_tuned = rf.predict(X_test)\n",
    "rf_accuracy_tuned = accuracy_score(y_test, rf_predictions_tuned)\n",
    "print('Tuned RF Accuracy:', rf_accuracy_tuned)\n",
    "\n",
    "# Interpretation\n",
    "print('Feature Importances:\\n', rf.feature_importances_)\n",
    "\n",
    "# Conclusion\n",
    "print('The tuned RF model obtained an accuracy of {} on the test set'.format(rf_accuracy_tuned))"
   ]
  },
  {
   "cell_type": "markdown",
   "id": "2b98ded1",
   "metadata": {},
   "source": [
    "To find accuracy based on GridSearchCV"
   ]
  },
  {
   "cell_type": "code",
   "execution_count": 57,
   "id": "aa103fbe",
   "metadata": {},
   "outputs": [
    {
     "name": "stdout",
     "output_type": "stream",
     "text": [
      "Tuned RF Accuracy: 1.0\n"
     ]
    }
   ],
   "source": [
    "# Define the hyperparameter grid\n",
    "param_grid = {\n",
    "    'n_estimators': [100, 200, 300],\n",
    "    'max_depth': [5, 10, 15]\n",
    "}\n",
    "\n",
    "# First Initialize the RandomForestClassifier\n",
    "rf = RandomForestClassifier()\n",
    "\n",
    "# Initialize the GridSearchCV\n",
    "grid_search = GridSearchCV(rf, param_grid, cv=3, scoring='accuracy')\n",
    "\n",
    "# Perform the grid search\n",
    "grid_search.fit(X_train, y_train)\n",
    "\n",
    "# To find the best hyperparameters\n",
    "best_params = grid_search.best_params_\n",
    "\n",
    "# Train the model with the best hyperparameters\n",
    "best_rf = RandomForestClassifier(**best_params)\n",
    "best_rf.fit(X_train, y_train)\n",
    "\n",
    "# Make predictions on the test set\n",
    "rf_predictions_tuned = best_rf.predict(X_test)\n",
    "\n",
    "# To evaluate the tuned model\n",
    "rf_accuracy_tuned = accuracy_score(y_test, rf_predictions_tuned)\n",
    "print('Tuned RF Accuracy:', rf_accuracy_tuned)\n"
   ]
  },
  {
   "cell_type": "markdown",
   "id": "8251be71",
   "metadata": {},
   "source": [
    "# Data Visualization"
   ]
  },
  {
   "cell_type": "code",
   "execution_count": 58,
   "id": "19589a1e",
   "metadata": {},
   "outputs": [
    {
     "data": {
      "image/png": "[encoded data removed]",
      "text/plain": [
       "<Figure size 1200x600 with 1 Axes>"
      ]
     },
     "metadata": {},
     "output_type": "display_data"
    }
   ],
   "source": [
    "# Team Performance Over Time\n",
    "plt.figure(figsize=(12, 6))\n",
    "sns.lineplot(x='match_id', y='total_runs', hue='batting_team', data=df)\n",
    "plt.title('Team Performance Over Time')\n",
    "plt.xlabel('Match ID')\n",
    "plt.ylabel('Total Runs')\n",
    "plt.legend(title='Batting Team')\n",
    "plt.show()"
   ]
  },
  {
   "cell_type": "code",
   "execution_count": 59,
   "id": "d325cfd8",
   "metadata": {},
   "outputs": [
    {
     "data": {
      "image/png": "[encoded data removed]",
      "text/plain": [
       "<Figure size 1000x600 with 1 Axes>"
      ]
     },
     "metadata": {},
     "output_type": "display_data"
    }
   ],
   "source": [
    "# Batting and Bowling Trends\n",
    "plt.figure(figsize=(10, 6))\n",
    "sns.barplot(x='batting_team', y='total_runs', data=df, ci=None, estimator=sum, color='skyblue', label='Runs Scored')\n",
    "sns.barplot(x='bowling_team', y='total_runs', data=df, ci=None, estimator=sum, color='orange', label='Runs Conceded')\n",
    "plt.title('Batting and Bowling Trends')\n",
    "plt.xlabel('Team')\n",
    "plt.ylabel('Total Runs')\n",
    "plt.legend()\n",
    "plt.show()"
   ]
  },
  {
   "cell_type": "code",
   "execution_count": 60,
   "id": "321164c7",
   "metadata": {},
   "outputs": [
    {
     "data": {
      "image/png": "[encoded data removed]",
      "text/plain": [
       "<Figure size 1000x600 with 1 Axes>"
      ]
     },
     "metadata": {},
     "output_type": "display_data"
    }
   ],
   "source": [
    "# Ball Runs Analysis\n",
    "plt.figure(figsize=(10, 6))\n",
    "sns.histplot(df['runs'], bins=20, kde=True)\n",
    "plt.title('Distribution of Ball Runs')\n",
    "plt.xlabel('Ball Runs')\n",
    "plt.ylabel('Frequency')\n",
    "plt.show()"
   ]
  },
  {
   "cell_type": "code",
   "execution_count": 61,
   "id": "6123d9f6",
   "metadata": {},
   "outputs": [
    {
     "data": {
      "image/png": "[encoded data removed]",
      "text/plain": [
       "<Figure size 1200x600 with 1 Axes>"
      ]
     },
     "metadata": {},
     "output_type": "display_data"
    }
   ],
   "source": [
    "# Calculate total runs for each city\n",
    "total_runs_by_city = df.groupby('city')['total_runs'].sum().reset_index()\n",
    "\n",
    "# Sort by total runs in descending order\n",
    "sorted_total_runs = total_runs_by_city.sort_values(by='total_runs', ascending=False)\n",
    "\n",
    "# Select the top 10 cities\n",
    "top_10_cities_total_runs = sorted_total_runs.head(10)\n",
    "\n",
    "# Plot only for the top 10 cities\n",
    "plt.figure(figsize=(12, 6))\n",
    "sns.barplot(x='city', y='total_runs', data=df[df['city'].isin(top_10_cities_total_runs['city'])], ci=None, estimator=sum, order=top_10_cities_total_runs['city'])\n",
    "plt.title('Total Runs Scored in Top 10 Cities')\n",
    "plt.xlabel('City')\n",
    "plt.ylabel('Total Runs')\n",
    "plt.xticks(rotation=45)\n",
    "plt.show()\n"
   ]
  },
  {
   "cell_type": "markdown",
   "id": "6eb0fe2e",
   "metadata": {},
   "source": [
    "# Score Prediction"
   ]
  },
  {
   "cell_type": "code",
   "execution_count": 62,
   "id": "61820328",
   "metadata": {},
   "outputs": [
    {
     "name": "stdout",
     "output_type": "stream",
     "text": [
      "Enter current score: 146\n",
      "Enter overs done: 17\n",
      "Enter wickets fallen: 7\n",
      "Rule-based Prediction: 186\n"
     ]
    }
   ],
   "source": [
    "import numpy as np\n",
    "\n",
    "def rule_based_prediction(current_score, overs_done, wickets_fallen):\n",
    "    # Constants\n",
    "    overs = 20\n",
    "    average_score = 160\n",
    "\n",
    "    # To calculate balls remaining \n",
    "    total_balls = overs * 6\n",
    "    balls_remaining = total_balls - (overs_done * 6)\n",
    "\n",
    "    # Estimate the additional runs\n",
    "    runs_per_over = average_score / overs\n",
    "    additional_runs = round(runs_per_over * (overs - overs_done))\n",
    "\n",
    "    # Adjust for wickets fallen\n",
    "    wickets_in_hand = 10 - wickets_fallen\n",
    "    wickets_factor = (10 + wickets_fallen) / 10\n",
    "    additional_runs *= wickets_factor  \n",
    "\n",
    "    # Predict final score\n",
    "    if wickets_fallen == 10 and overs_done == 20:\n",
    "        return current_score\n",
    "    else:\n",
    "        predicted_score = current_score + additional_runs\n",
    "        return predicted_score\n",
    "\n",
    "# User input for rule-based prediction\n",
    "current_score = int(input(\"Enter current score: \"))\n",
    "overs_done = float(input(\"Enter overs done: \"))\n",
    "wickets_fallen = int(input(\"Enter wickets fallen: \"))\n",
    "\n",
    "# Get the rule-based prediction\n",
    "rule_based_result = rule_based_prediction(current_score, overs_done, wickets_fallen)\n",
    "\n",
    "# Print the result\n",
    "print('Rule-based Prediction:', int(rule_based_result))\n"
   ]
  },
  {
   "cell_type": "code",
   "execution_count": 63,
   "id": "e1556aad",
   "metadata": {},
   "outputs": [],
   "source": [
    "# Calculate the final score for each match\n",
    "final_scores = df.groupby(['match_id', 'batting_team'])['runs'].sum().reset_index()\n",
    "final_scores.rename(columns={'runs': 'final_score'}, inplace=True)\n",
    "\n",
    "# Merge this back into the original dataframe\n",
    "df = df.merge(final_scores, on=['match_id', 'batting_team'])"
   ]
  },
  {
   "cell_type": "code",
   "execution_count": 64,
   "id": "67758492",
   "metadata": {},
   "outputs": [],
   "source": [
    "# Extracting over and ball_no from 'ball' column\n",
    "df['over'], df['ball_no'] = df['ball'].astype(str).str.split('.').apply(lambda x: (int(x[0]), int(x[1]))).str\n",
    "\n",
    "# Calculating overs_bowled\n",
    "df['overs_bowled'] = df['over'] * 6 \n",
    "\n",
    "# Converting 'player_dismissed' to binary wicket column\n",
    "df['wicket'] = df['player_dismissed'].apply(lambda x: 0 if x in [None, 0] else 1)\n",
    "\n",
    "# Calculating cumulative sum of wickets for each match\n",
    "df['wickets_fallen'] = df.groupby('match_id')['wicket'].cumsum()\n"
   ]
  },
  {
   "cell_type": "code",
   "execution_count": 65,
   "id": "6b2bb1a8",
   "metadata": {},
   "outputs": [],
   "source": [
    "# Extracting 'over' and 'ball_no' from 'ball' column\n",
    "df['over'], df['ball_no'] = df['ball'].astype(str).str.split('.').str\n",
    "\n",
    "# Calculating cumulative sum of runs for each match as current_score\n",
    "df['current_score'] = df.groupby('match_id')['runs'].cumsum()\n",
    "\n",
    "# Calculating the total balls bowled\n",
    "df['balls_bowled'] = (df['over'].astype(int) * 6) + df['ball_no'].astype(int)\n",
    "\n",
    "# Calculating the current run rate\n",
    "df['current_runrate'] = (df['current_score'] * 6) / df['balls_bowled']\n"
   ]
  },
  {
   "cell_type": "code",
   "execution_count": 66,
   "id": "0d992d46",
   "metadata": {},
   "outputs": [],
   "source": [
    "# Convert non-dismissals to 0 and dismissals to 1\n",
    "df['player_dismissed'] = df['player_dismissed'].apply(lambda x: 0 if x == '0' else 1).astype(int)\n",
    "\n",
    "# Calculate cumulative sum of player dismissals for each match\n",
    "df['player_dismissed'] = df.groupby('match_id')['player_dismissed'].cumsum()\n",
    "\n",
    "# Calculate wickets left\n",
    "df['wickets_left'] = 10 - df['player_dismissed']\n"
   ]
  },
  {
   "cell_type": "code",
   "execution_count": 67,
   "id": "0f3905dd",
   "metadata": {},
   "outputs": [
    {
     "data": {
      "text/html": [
       "<div>\n",
       "<style scoped>\n",
       "    .dataframe tbody tr th:only-of-type {\n",
       "        vertical-align: middle;\n",
       "    }\n",
       "\n",
       "    .dataframe tbody tr th {\n",
       "        vertical-align: top;\n",
       "    }\n",
       "\n",
       "    .dataframe thead th {\n",
       "        text-align: right;\n",
       "    }\n",
       "</style>\n",
       "<table border=\"1\" class=\"dataframe\">\n",
       "  <thead>\n",
       "    <tr style=\"text-align: right;\">\n",
       "      <th></th>\n",
       "      <th>ID</th>\n",
       "      <th>match_id</th>\n",
       "      <th>batting_team</th>\n",
       "      <th>bowling_team</th>\n",
       "      <th>ball</th>\n",
       "      <th>runs</th>\n",
       "      <th>player_dismissed</th>\n",
       "      <th>city</th>\n",
       "      <th>venue</th>\n",
       "      <th>total_runs</th>\n",
       "      <th>final_score</th>\n",
       "      <th>over</th>\n",
       "      <th>ball_no</th>\n",
       "      <th>overs_bowled</th>\n",
       "      <th>wicket</th>\n",
       "      <th>wickets_fallen</th>\n",
       "      <th>current_score</th>\n",
       "      <th>balls_bowled</th>\n",
       "      <th>current_runrate</th>\n",
       "      <th>wickets_left</th>\n",
       "    </tr>\n",
       "  </thead>\n",
       "  <tbody>\n",
       "    <tr>\n",
       "      <th>0</th>\n",
       "      <td>0</td>\n",
       "      <td>3</td>\n",
       "      <td>Australia</td>\n",
       "      <td>Sri Lanka</td>\n",
       "      <td>0.1</td>\n",
       "      <td>0</td>\n",
       "      <td>0</td>\n",
       "      <td>Victoria</td>\n",
       "      <td>Simonds Stadium, South Geelong</td>\n",
       "      <td>6212</td>\n",
       "      <td>173</td>\n",
       "      <td>0</td>\n",
       "      <td>1</td>\n",
       "      <td>0</td>\n",
       "      <td>1</td>\n",
       "      <td>1</td>\n",
       "      <td>0</td>\n",
       "      <td>1</td>\n",
       "      <td>0.0</td>\n",
       "      <td>10</td>\n",
       "    </tr>\n",
       "    <tr>\n",
       "      <th>1</th>\n",
       "      <td>1</td>\n",
       "      <td>3</td>\n",
       "      <td>Australia</td>\n",
       "      <td>Sri Lanka</td>\n",
       "      <td>0.2</td>\n",
       "      <td>1</td>\n",
       "      <td>0</td>\n",
       "      <td>Victoria</td>\n",
       "      <td>Simonds Stadium, South Geelong</td>\n",
       "      <td>6212</td>\n",
       "      <td>173</td>\n",
       "      <td>0</td>\n",
       "      <td>2</td>\n",
       "      <td>0</td>\n",
       "      <td>1</td>\n",
       "      <td>2</td>\n",
       "      <td>1</td>\n",
       "      <td>2</td>\n",
       "      <td>3.0</td>\n",
       "      <td>10</td>\n",
       "    </tr>\n",
       "    <tr>\n",
       "      <th>2</th>\n",
       "      <td>2</td>\n",
       "      <td>3</td>\n",
       "      <td>Australia</td>\n",
       "      <td>Sri Lanka</td>\n",
       "      <td>0.3</td>\n",
       "      <td>0</td>\n",
       "      <td>0</td>\n",
       "      <td>Victoria</td>\n",
       "      <td>Simonds Stadium, South Geelong</td>\n",
       "      <td>6212</td>\n",
       "      <td>173</td>\n",
       "      <td>0</td>\n",
       "      <td>3</td>\n",
       "      <td>0</td>\n",
       "      <td>1</td>\n",
       "      <td>3</td>\n",
       "      <td>1</td>\n",
       "      <td>3</td>\n",
       "      <td>2.0</td>\n",
       "      <td>10</td>\n",
       "    </tr>\n",
       "    <tr>\n",
       "      <th>3</th>\n",
       "      <td>3</td>\n",
       "      <td>3</td>\n",
       "      <td>Australia</td>\n",
       "      <td>Sri Lanka</td>\n",
       "      <td>0.4</td>\n",
       "      <td>4</td>\n",
       "      <td>0</td>\n",
       "      <td>Victoria</td>\n",
       "      <td>Simonds Stadium, South Geelong</td>\n",
       "      <td>6212</td>\n",
       "      <td>173</td>\n",
       "      <td>0</td>\n",
       "      <td>4</td>\n",
       "      <td>0</td>\n",
       "      <td>1</td>\n",
       "      <td>4</td>\n",
       "      <td>5</td>\n",
       "      <td>4</td>\n",
       "      <td>7.5</td>\n",
       "      <td>10</td>\n",
       "    </tr>\n",
       "    <tr>\n",
       "      <th>4</th>\n",
       "      <td>4</td>\n",
       "      <td>3</td>\n",
       "      <td>Australia</td>\n",
       "      <td>Sri Lanka</td>\n",
       "      <td>0.5</td>\n",
       "      <td>1</td>\n",
       "      <td>0</td>\n",
       "      <td>Victoria</td>\n",
       "      <td>Simonds Stadium, South Geelong</td>\n",
       "      <td>6212</td>\n",
       "      <td>173</td>\n",
       "      <td>0</td>\n",
       "      <td>5</td>\n",
       "      <td>0</td>\n",
       "      <td>1</td>\n",
       "      <td>5</td>\n",
       "      <td>6</td>\n",
       "      <td>5</td>\n",
       "      <td>7.2</td>\n",
       "      <td>10</td>\n",
       "    </tr>\n",
       "  </tbody>\n",
       "</table>\n",
       "</div>"
      ],
      "text/plain": [
       "   ID  match_id batting_team bowling_team  ball  runs  player_dismissed  \\\n",
       "0   0         3    Australia    Sri Lanka   0.1     0                 0   \n",
       "1   1         3    Australia    Sri Lanka   0.2     1                 0   \n",
       "2   2         3    Australia    Sri Lanka   0.3     0                 0   \n",
       "3   3         3    Australia    Sri Lanka   0.4     4                 0   \n",
       "4   4         3    Australia    Sri Lanka   0.5     1                 0   \n",
       "\n",
       "       city                           venue  total_runs  final_score over  \\\n",
       "0  Victoria  Simonds Stadium, South Geelong        6212          173    0   \n",
       "1  Victoria  Simonds Stadium, South Geelong        6212          173    0   \n",
       "2  Victoria  Simonds Stadium, South Geelong        6212          173    0   \n",
       "3  Victoria  Simonds Stadium, South Geelong        6212          173    0   \n",
       "4  Victoria  Simonds Stadium, South Geelong        6212          173    0   \n",
       "\n",
       "  ball_no  overs_bowled  wicket  wickets_fallen  current_score  balls_bowled  \\\n",
       "0       1             0       1               1              0             1   \n",
       "1       2             0       1               2              1             2   \n",
       "2       3             0       1               3              1             3   \n",
       "3       4             0       1               4              5             4   \n",
       "4       5             0       1               5              6             5   \n",
       "\n",
       "   current_runrate  wickets_left  \n",
       "0              0.0            10  \n",
       "1              3.0            10  \n",
       "2              2.0            10  \n",
       "3              7.5            10  \n",
       "4              7.2            10  "
      ]
     },
     "execution_count": 67,
     "metadata": {},
     "output_type": "execute_result"
    }
   ],
   "source": [
    "df.head()"
   ]
  },
  {
   "cell_type": "markdown",
   "id": "64fb94fd",
   "metadata": {},
   "source": [
    "# Visualizing the variance explained by each principal component"
   ]
  },
  {
   "cell_type": "code",
   "execution_count": 71,
   "id": "606ebcbd",
   "metadata": {},
   "outputs": [],
   "source": [
    "from sklearn.decomposition import PCA\n",
    "# To select the features\n",
    "features = ['total_runs', 'wickets_fallen', 'overs_bowled', \n",
    "            'current_score', 'current_runrate'] \n",
    "\n",
    "# Create PCA model\n",
    "pca = PCA()\n",
    "pca.fit(df[features])\n",
    "\n",
    "# Plot scree plot  \n",
    "var_exp = pca.explained_variance_ratio_"
   ]
  },
  {
   "cell_type": "code",
   "execution_count": 72,
   "id": "df78be58",
   "metadata": {},
   "outputs": [
    {
     "data": {
      "image/png": "[encoded data removed]",
      "text/plain": [
       "<Figure size 640x480 with 1 Axes>"
      ]
     },
     "metadata": {},
     "output_type": "display_data"
    }
   ],
   "source": [
    "plt.plot(range(1, len(var_exp)+1), var_exp, 'o-') \n",
    "plt.title('Cricket Dataset Scree Plot')\n",
    "plt.xlabel('Principal Component') \n",
    "plt.ylabel('Variance Explained')\n",
    "plt.show()"
   ]
  },
  {
   "cell_type": "code",
   "execution_count": 70,
   "id": "2ec9f3a3",
   "metadata": {},
   "outputs": [
    {
     "name": "stdout",
     "output_type": "stream",
     "text": [
      "Enter current score: 146\n",
      "Enter total number of overs for the match: 20\n",
      "Total number of balls:  120\n",
      "Enter overs done: 17\n",
      "Numer of balls done: 102\n",
      "Enter wickets fallen: 7\n",
      "Model Based Predicted Score: 169\n"
     ]
    }
   ],
   "source": [
    "# Select features and target variable\n",
    "X = df[['current_score', 'overs_bowled', 'wicket']]\n",
    "y = df['final_score']  \n",
    "\n",
    "# Split data into training and testing sets\n",
    "X_train, X_test, y_train, y_test = train_test_split(X, y, test_size=0.2, random_state=42)\n",
    "\n",
    "# Select and train the model\n",
    "model = RandomForestRegressor(random_state=42)\n",
    "model.fit(X_train, y_train)\n",
    "\n",
    "# Predict using user input\n",
    "current_score = int(input(\"Enter current score: \"))\n",
    "overs = int(input(\"Enter total number of overs for the match: \"))\n",
    "print(\"Total number of balls: \",overs* 6)\n",
    "overs_done = int(input(\"Enter overs done: \")) * 6  # Convert overs to balls\n",
    "print(\"Numer of balls done:\",overs_done)\n",
    "if overs_done <= (overs * 6):\n",
    "    wicket = int(input(\"Enter wickets fallen: \"))\n",
    "    if (overs * 6) == overs_done:\n",
    "        print(\"Test\")\n",
    "        predicted_score = current_score \n",
    "    elif wicket ==10:\n",
    "        predicted_score = current_score\n",
    "    else:\n",
    "        user_input = pd.DataFrame([[current_score, overs_done, wicket]],\n",
    "                              columns=['current_score', 'overs_bowled', 'wicket'])\n",
    "    \n",
    "        predicted_score = int(model.predict(user_input))\n",
    "    print('Model Based Predicted Score:', predicted_score)\n",
    "else:\n",
    "    print(\"Overs done should not exceed the total overs\")\n",
    "    \n"
   ]
  },
  {
   "cell_type": "code",
   "execution_count": null,
   "id": "1480a122",
   "metadata": {},
   "outputs": [],
   "source": []
  }
 ],
 "metadata": {
  "kernelspec": {
   "display_name": "Python 3 (ipykernel)",
   "language": "python",
   "name": "python3"
  },
  "language_info": {
   "codemirror_mode": {
    "name": "ipython",
    "version": 3
   },
   "file_extension": ".py",
   "mimetype": "text/x-python",
   "name": "python",
   "nbconvert_exporter": "python",
   "pygments_lexer": "ipython3",
   "version": "3.10.9"
  }
 },
 "nbformat": 4,
 "nbformat_minor": 5
}
